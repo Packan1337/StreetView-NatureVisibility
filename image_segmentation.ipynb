{
  "cells": [
    {
      "cell_type": "code",
      "execution_count": 354,
      "metadata": {
        "colab": {
          "base_uri": "https://localhost:8080/"
        },
        "id": "s1aujgNKvVrz",
        "outputId": "f97f058b-3269-47a5-9ff1-fbfe4418bdf1"
      },
      "outputs": [],
      "source": [
        "# Use this block of code when working on Google Colab in order to save the files in Google Drive\n",
        "#from google.colab import drive\n",
        "#drive.mount('/content/drive')\n",
        "\n",
        "#path = \"drive/MyDrive/Thesis/\""
      ]
    },
    {
      "cell_type": "code",
      "execution_count": 355,
      "metadata": {
        "colab": {
          "base_uri": "https://localhost:8080/"
        },
        "id": "T92Iwq3WvaG4",
        "outputId": "5d1df63c-32d7-4993-f984-126418e3cc90"
      },
      "outputs": [],
      "source": [
        "#%pip install transformers\n",
        "#%pip install geopandas\n",
        "#%pip install torch==1.13.1"
      ]
    },
    {
      "cell_type": "code",
      "execution_count": 356,
      "metadata": {
        "id": "Wqb2jsMQvVMK"
      },
      "outputs": [],
      "source": [
        "import os\n",
        "os.environ['USE_PYGEOS'] = '0'\n",
        "\n",
        "from concurrent.futures import ThreadPoolExecutor, as_completed\n",
        "import json\n",
        "\n",
        "import matplotlib.pyplot as plt\n",
        "\n",
        "from transformers import AutoImageProcessor, Mask2FormerForUniversalSegmentation\n",
        "from PIL import Image, ImageDraw\n",
        "import torch\n",
        "\n",
        "import geopandas as gpd\n",
        "from tqdm import tqdm\n",
        "import numpy as np\n",
        "import requests\n",
        "\n",
        "import json\n",
        "\n",
        "from scipy.signal import find_peaks\n",
        "import pickle"
      ]
    },
    {
      "cell_type": "code",
      "execution_count": 357,
      "metadata": {},
      "outputs": [],
      "source": [
        "# color palette to map each class to a RGB value\n",
        "color_palette = [\n",
        "    [128, 64, 128],  # 0: road - maroon\n",
        "    [244, 35, 232],  # 1: sidewalk - pink\n",
        "    [70, 70, 70],  # 2: building - dark gray\n",
        "    [102, 102, 156],  # 3: wall - purple\n",
        "    [190, 153, 153],  # 4: fence - light brown\n",
        "    [153, 153, 153],  # 5: pole - gray\n",
        "    [250, 170, 30],  # 6: traffic light - orange\n",
        "    [220, 220, 0],  # 7: traffic sign - yellow\n",
        "    [107, 142, 35],  # 8: vegetation - dark green\n",
        "    [152, 251, 152],  # 9: terrain - light green\n",
        "    [70, 130, 180],  # 10: sky - blue\n",
        "    [220, 20, 60],  # 11: person - red\n",
        "    [255, 0, 0],  # 12: rider - bright red\n",
        "    [0, 0, 142],  # 13: car - dark blue\n",
        "    [0, 0, 70],  # 14: truck - navy blue\n",
        "    [0, 60, 100],  # 15: bus - dark teal\n",
        "    [0, 80, 100],  # 16: train - dark green\n",
        "    [0, 0, 230],  # 17: motorcycle - blue\n",
        "    [119, 11, 32]  # 18: bicycle - dark red\n",
        "]"
      ]
    },
    {
      "attachments": {},
      "cell_type": "markdown",
      "metadata": {},
      "source": [
        "#### The following functions were made just to visualise the results of some parts of the code and make sure that it was correctly working"
      ]
    },
    {
      "cell_type": "code",
      "execution_count": 358,
      "metadata": {},
      "outputs": [],
      "source": [
        "import matplotlib.pyplot as plt\n",
        "\n",
        "def visualize_results(image, segmentation):\n",
        "    _, ax = plt.subplots(1, 2, figsize=(12, 6))\n",
        "\n",
        "    # Display the widened panorama image\n",
        "    ax[0].imshow(image)\n",
        "    ax[0].set_title(\"Widened Panorama Image\")\n",
        "    ax[0].axis(\"off\")\n",
        "\n",
        "    # Display the segmentation result\n",
        "    ax[1].imshow(segmentation, cmap='jet', interpolation='nearest')\n",
        "    ax[1].set_title(\"Segmentation Result\")\n",
        "    ax[1].axis(\"off\")\n",
        "\n",
        "    plt.tight_layout()\n",
        "    plt.show()\n"
      ]
    },
    {
      "cell_type": "code",
      "execution_count": 359,
      "metadata": {},
      "outputs": [],
      "source": [
        "def visualize_road_centres(segmentation, centres):\n",
        "    palette_bytes = bytes([c for color in color_palette for c in color]) # concatenate rgb\n",
        "    predict_np = segmentation.numpy()\n",
        "    mask = Image.fromarray(predict_np.astype('uint8')).convert('P')\n",
        "    mask.putpalette(palette_bytes)\n",
        "    mask.load()\n",
        "      \n",
        "    draw = ImageDraw.Draw(mask)\n",
        "      \n",
        "    for centre in centres:\n",
        "        draw.line((centre, 0, centre, mask.size[1]), width=4, fill=(0,255,0))\n",
        "    \n",
        "    mask.show()"
      ]
    },
    {
      "cell_type": "code",
      "execution_count": 370,
      "metadata": {
        "id": "Yi70VyJLvVMP"
      },
      "outputs": [],
      "source": [
        "from process_data import download_image, prepare_folders, get_models\n",
        "\n",
        "def download_images_for_points(gdf, city, access_token, path=\"\"):\n",
        "    processor, model = get_models()\n",
        "    prepare_folders(path, city)\n",
        "    \n",
        "    images_results = []\n",
        "    with ThreadPoolExecutor(max_workers=10) as executor:\n",
        "        futures = []\n",
        "  \n",
        "        for _, row in gdf.iterrows():\n",
        "            feature = row[\"feature\"]\n",
        "            geometry = row[\"geometry\"]\n",
        "            feature = json.loads(feature)\n",
        "            futures.append(executor.submit(download_image, geometry, feature, city, access_token, processor, model, path))\n",
        " \n",
        "        for future in tqdm(as_completed(futures), total=len(futures), desc=\"Downloading images\"):\n",
        "            image_result = future.result()\n",
        "            images_results.append(image_result)\n",
        "\n",
        "    return gpd.GeoDataFrame(images_results, columns=[\"geometry\", \"GVI\", \"is_panoramic\", \"missing\", \"error\"])"
      ]
    },
    {
      "cell_type": "code",
      "execution_count": 371,
      "metadata": {
        "id": "hV_HAPW1vVMQ"
      },
      "outputs": [],
      "source": [
        "# Get the roadnetwork of a specific city using OpenStreetMap data\n",
        "city = \"Kampala, Uganda\"\n",
        "\n",
        "# Set access token for mapillary\n",
        "access_token = \"MLY|6267906093323631|fba37c53726a386c951323ee5b9874bf\"\n",
        "path = \"\"\n",
        "\n",
        "path_to_file=\"{}results/{}/data/points_with_features.gpkg\".format(path, city)\n",
        "gdf_features = gpd.read_file(path_to_file)\n",
        "gdf_features = gdf_features.head(10)\n"
      ]
    },
    {
      "cell_type": "code",
      "execution_count": 372,
      "metadata": {
        "colab": {
          "base_uri": "https://localhost:8080/"
        },
        "id": "kFEx3Hp0vVMQ",
        "outputId": "e1589c07-7ce7-4217-c539-63922169f1a0"
      },
      "outputs": [
        {
          "name": "stderr",
          "output_type": "stream",
          "text": [
            "Downloading images: 100%|██████████| 10/10 [00:25<00:00,  2.60s/it]\n"
          ]
        }
      ],
      "source": [
        "results = download_images_for_points(gdf_features, city, access_token)"
      ]
    },
    {
      "cell_type": "code",
      "execution_count": 373,
      "metadata": {},
      "outputs": [
        {
          "data": {
            "text/html": [
              "<div>\n",
              "<style scoped>\n",
              "    .dataframe tbody tr th:only-of-type {\n",
              "        vertical-align: middle;\n",
              "    }\n",
              "\n",
              "    .dataframe tbody tr th {\n",
              "        vertical-align: top;\n",
              "    }\n",
              "\n",
              "    .dataframe thead th {\n",
              "        text-align: right;\n",
              "    }\n",
              "</style>\n",
              "<table border=\"1\" class=\"dataframe\">\n",
              "  <thead>\n",
              "    <tr style=\"text-align: right;\">\n",
              "      <th></th>\n",
              "      <th>geometry</th>\n",
              "      <th>GVI</th>\n",
              "      <th>is_panoramic</th>\n",
              "      <th>missing</th>\n",
              "      <th>error</th>\n",
              "    </tr>\n",
              "  </thead>\n",
              "  <tbody>\n",
              "    <tr>\n",
              "      <th>0</th>\n",
              "      <td>POINT (32.59706 0.33938)</td>\n",
              "      <td>0.000000</td>\n",
              "      <td>None</td>\n",
              "      <td>True</td>\n",
              "      <td>False</td>\n",
              "    </tr>\n",
              "    <tr>\n",
              "      <th>1</th>\n",
              "      <td>POINT (32.59995 0.33730)</td>\n",
              "      <td>0.000000</td>\n",
              "      <td>None</td>\n",
              "      <td>True</td>\n",
              "      <td>False</td>\n",
              "    </tr>\n",
              "    <tr>\n",
              "      <th>2</th>\n",
              "      <td>POINT (32.59793 0.33903)</td>\n",
              "      <td>0.000000</td>\n",
              "      <td>None</td>\n",
              "      <td>True</td>\n",
              "      <td>False</td>\n",
              "    </tr>\n",
              "    <tr>\n",
              "      <th>3</th>\n",
              "      <td>POINT (32.59969 0.33767)</td>\n",
              "      <td>0.000000</td>\n",
              "      <td>None</td>\n",
              "      <td>True</td>\n",
              "      <td>False</td>\n",
              "    </tr>\n",
              "    <tr>\n",
              "      <th>4</th>\n",
              "      <td>POINT (32.59872 0.33859)</td>\n",
              "      <td>0.000000</td>\n",
              "      <td>None</td>\n",
              "      <td>True</td>\n",
              "      <td>False</td>\n",
              "    </tr>\n",
              "    <tr>\n",
              "      <th>5</th>\n",
              "      <td>POINT (32.59941 0.33802)</td>\n",
              "      <td>0.000000</td>\n",
              "      <td>None</td>\n",
              "      <td>True</td>\n",
              "      <td>False</td>\n",
              "    </tr>\n",
              "    <tr>\n",
              "      <th>6</th>\n",
              "      <td>POINT (32.59714 0.33946)</td>\n",
              "      <td>0.336839</td>\n",
              "      <td>False</td>\n",
              "      <td>False</td>\n",
              "      <td>False</td>\n",
              "    </tr>\n",
              "    <tr>\n",
              "      <th>7</th>\n",
              "      <td>POINT (32.59753 0.33924)</td>\n",
              "      <td>0.232132</td>\n",
              "      <td>False</td>\n",
              "      <td>False</td>\n",
              "      <td>False</td>\n",
              "    </tr>\n",
              "    <tr>\n",
              "      <th>8</th>\n",
              "      <td>POINT (32.59908 0.33833)</td>\n",
              "      <td>0.206590</td>\n",
              "      <td>False</td>\n",
              "      <td>False</td>\n",
              "      <td>False</td>\n",
              "    </tr>\n",
              "    <tr>\n",
              "      <th>9</th>\n",
              "      <td>POINT (32.59832 0.33881)</td>\n",
              "      <td>0.186828</td>\n",
              "      <td>False</td>\n",
              "      <td>False</td>\n",
              "      <td>False</td>\n",
              "    </tr>\n",
              "  </tbody>\n",
              "</table>\n",
              "</div>"
            ],
            "text/plain": [
              "                   geometry       GVI is_panoramic  missing  error\n",
              "0  POINT (32.59706 0.33938)  0.000000         None     True  False\n",
              "1  POINT (32.59995 0.33730)  0.000000         None     True  False\n",
              "2  POINT (32.59793 0.33903)  0.000000         None     True  False\n",
              "3  POINT (32.59969 0.33767)  0.000000         None     True  False\n",
              "4  POINT (32.59872 0.33859)  0.000000         None     True  False\n",
              "5  POINT (32.59941 0.33802)  0.000000         None     True  False\n",
              "6  POINT (32.59714 0.33946)  0.336839        False    False  False\n",
              "7  POINT (32.59753 0.33924)  0.232132        False    False  False\n",
              "8  POINT (32.59908 0.33833)  0.206590        False    False  False\n",
              "9  POINT (32.59832 0.33881)  0.186828        False    False  False"
            ]
          },
          "execution_count": 373,
          "metadata": {},
          "output_type": "execute_result"
        }
      ],
      "source": [
        "results"
      ]
    }
  ],
  "metadata": {
    "colab": {
      "provenance": []
    },
    "kernelspec": {
      "display_name": "ssml",
      "language": "python",
      "name": "python3"
    },
    "language_info": {
      "codemirror_mode": {
        "name": "ipython",
        "version": 3
      },
      "file_extension": ".py",
      "mimetype": "text/x-python",
      "name": "python",
      "nbconvert_exporter": "python",
      "pygments_lexer": "ipython3",
      "version": "3.10.9"
    },
    "orig_nbformat": 4
  },
  "nbformat": 4,
  "nbformat_minor": 0
}
