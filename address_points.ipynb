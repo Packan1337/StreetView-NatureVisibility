{
 "cells": [
  {
   "cell_type": "code",
   "execution_count": 1,
   "metadata": {},
   "outputs": [],
   "source": [
    "import os\n",
    "os.environ['USE_PYGEOS'] = '0'\n",
    "\n",
    "from main_script import download_images_for_points\n",
    "from process_data import get_gvi_per_buffer\n",
    "from osmnx_road_network import select_points_on_road_network, get_features_on_points, get_road_network_with_points, select_points_within_buffers\n",
    "import geopandas as gpd\n",
    "from datetime import timedelta\n",
    "from time import time"
   ]
  },
  {
   "cell_type": "code",
   "execution_count": 2,
   "metadata": {},
   "outputs": [],
   "source": [
    "file = \"Test_multiple_home_locations.gpkg\" # File with address points\n",
    "layer = \"Test_multiple_home_locations\"\n",
    "buffer_distance = 500 # buffer distance in meters\n",
    "access_token = \"MLY|6267906093323631|fba37c53726a386c951323ee5b9874bf\" # Access token for mapillary"
   ]
  },
  {
   "cell_type": "code",
   "execution_count": 3,
   "metadata": {},
   "outputs": [],
   "source": [
    "# Read the file as a GeoDataFrame\n",
    "gdf_points = gpd.read_file(file, layer=layer) # The crs must use meters\n",
    "\n",
    "gdf_points['buffer'] = gdf_points['geometry'].buffer(buffer_distance)"
   ]
  },
  {
   "cell_type": "code",
   "execution_count": 4,
   "metadata": {},
   "outputs": [],
   "source": [
    "# Reproject the GeoDataFrame to WGS84 (EPSG:4326)\n",
    "gdf_points.to_crs(epsg=4326, inplace=True)\n",
    "\n",
    "# Reproject the 'buffer' column to EPSG 4326\n",
    "gdf_points['buffer'] = gdf_points['buffer'].to_crs(epsg=4326)"
   ]
  },
  {
   "cell_type": "code",
   "execution_count": 5,
   "metadata": {},
   "outputs": [],
   "source": [
    "road = get_road_network_with_points(gdf_points['buffer'])\n",
    "\n",
    "# Reproject the GeoDataFrame to WGS84 (EPSG:4326)\n",
    "road.to_crs(epsg=4326, inplace=True)"
   ]
  },
  {
   "cell_type": "code",
   "execution_count": 6,
   "metadata": {},
   "outputs": [],
   "source": [
    "road_points = select_points_on_road_network(road)"
   ]
  },
  {
   "cell_type": "code",
   "execution_count": 7,
   "metadata": {},
   "outputs": [],
   "source": [
    "points = select_points_within_buffers(gdf_points, road_points)"
   ]
  },
  {
   "cell_type": "code",
   "execution_count": 9,
   "metadata": {},
   "outputs": [
    {
     "name": "stderr",
     "output_type": "stream",
     "text": [
      "Downloading tiles: 100%|██████████| 7/7 [00:00<00:00, 14.07it/s]\n",
      "Downloading images (Process 4): 100%|██████████| 43/43 [26:18<00:00, 36.71s/it]\n",
      "Downloading images (Process 3): 100%|██████████| 43/43 [26:19<00:00, 36.73s/it]\n",
      "Downloading images (Process 5): 100%|██████████| 43/43 [27:08<00:00, 37.87s/it]\n",
      "Downloading images (Process 6): 100%|██████████| 43/43 [27:14<00:00, 38.02s/it]\n",
      "Downloading images (Process 7): 100%|██████████| 43/43 [27:21<00:00, 38.17s/it]\n",
      "Downloading images (Process 1): 100%|██████████| 44/44 [27:29<00:00, 37.49s/it]\n",
      "Downloading images (Process 2): 100%|██████████| 44/44 [27:32<00:00, 37.55s/it]\n",
      "Downloading images (Process 0): 100%|██████████| 44/44 [27:37<00:00, 37.66s/it]\n"
     ]
    },
    {
     "name": "stdout",
     "output_type": "stream",
     "text": [
      "Running time: 0:27:44.493010\n"
     ]
    }
   ],
   "source": [
    "# Get features for each point\n",
    "features = get_features_on_points(points, access_token)\n",
    "\n",
    "file_path = os.path.join(\"results\", \"points.gpkg\")\n",
    "features.to_file(file_path, driver=\"GPKG\")\n",
    "\n",
    "# Get the initial time\n",
    "start_time = time()\n",
    "    \n",
    "gvi_per_point = download_images_for_points(features, access_token)\n",
    "# Get the final time\n",
    "end_time = time()\n",
    "\n",
    "# Calculate the elapsed time\n",
    "elapsed_time = end_time - start_time\n",
    "\n",
    "# Format the elapsed time as \"hh:mm:ss\"\n",
    "formatted_time = str(timedelta(seconds=elapsed_time))\n",
    "\n",
    "print(f\"Running time: {formatted_time}\")"
   ]
  },
  {
   "cell_type": "code",
   "execution_count": 54,
   "metadata": {},
   "outputs": [],
   "source": [
    "def get_gvi_per_buffer(buffered_points, gvi_per_point):\n",
    "    joined = gpd.sjoin(gvi_per_point, buffered_points.set_geometry('buffer'), how='inner', predicate='within')\n",
    "\n",
    "    # Group the points by buffer\n",
    "    grouped = joined.groupby('index_right')\n",
    "\n",
    "    # Convert 'grouped' to a DataFrame\n",
    "    grouped_df = grouped.apply(lambda x: x.reset_index(drop=True))\n",
    "    grouped_df = grouped_df[[\"geometry_left\", \"GVI\", \"is_panoramic\", \"missing\"]].reset_index()\n",
    "    # Convert grouped_df to a GeoDataFrame\n",
    "    grouped_gdf = gpd.GeoDataFrame(grouped_df, geometry='geometry_left')\n",
    "\n",
    "    # Calculate the average 'gvi' for each group\n",
    "    avg_gvi = grouped['GVI'].mean().reset_index()\n",
    "    point_count = grouped['GVI'].count().reset_index(name='Point_Count')\n",
    "\n",
    "    # Merge with the buffered_points dataframe to get the buffer geometries\n",
    "    result = avg_gvi.merge(buffered_points, left_on='index_right', right_index=True)\n",
    "    result = result.merge(point_count, on='index_right')\n",
    "    # Convert the result to a GeoDataFrame\n",
    "    result = gpd.GeoDataFrame(result[['geometry', 'GVI', 'Point_Count']])\n",
    "\n",
    "    return result, grouped_gdf"
   ]
  },
  {
   "cell_type": "code",
   "execution_count": 55,
   "metadata": {},
   "outputs": [],
   "source": [
    "gvi_buffer, points = get_gvi_per_buffer(gdf_points, gvi_per_point)"
   ]
  },
  {
   "cell_type": "code",
   "execution_count": 56,
   "metadata": {},
   "outputs": [
    {
     "data": {
      "text/html": [
       "<div>\n",
       "<style scoped>\n",
       "    .dataframe tbody tr th:only-of-type {\n",
       "        vertical-align: middle;\n",
       "    }\n",
       "\n",
       "    .dataframe tbody tr th {\n",
       "        vertical-align: top;\n",
       "    }\n",
       "\n",
       "    .dataframe thead th {\n",
       "        text-align: right;\n",
       "    }\n",
       "</style>\n",
       "<table border=\"1\" class=\"dataframe\">\n",
       "  <thead>\n",
       "    <tr style=\"text-align: right;\">\n",
       "      <th></th>\n",
       "      <th>geometry</th>\n",
       "      <th>GVI</th>\n",
       "      <th>Point_Count</th>\n",
       "    </tr>\n",
       "  </thead>\n",
       "  <tbody>\n",
       "    <tr>\n",
       "      <th>0</th>\n",
       "      <td>POINT (-2.17238 53.43243)</td>\n",
       "      <td>0.154665</td>\n",
       "      <td>36</td>\n",
       "    </tr>\n",
       "    <tr>\n",
       "      <th>1</th>\n",
       "      <td>POINT (-2.21250 53.44085)</td>\n",
       "      <td>0.274186</td>\n",
       "      <td>120</td>\n",
       "    </tr>\n",
       "    <tr>\n",
       "      <th>2</th>\n",
       "      <td>POINT (-2.17267 53.45455)</td>\n",
       "      <td>0.127187</td>\n",
       "      <td>99</td>\n",
       "    </tr>\n",
       "  </tbody>\n",
       "</table>\n",
       "</div>"
      ],
      "text/plain": [
       "                    geometry       GVI  Point_Count\n",
       "0  POINT (-2.17238 53.43243)  0.154665           36\n",
       "1  POINT (-2.21250 53.44085)  0.274186          120\n",
       "2  POINT (-2.17267 53.45455)  0.127187           99"
      ]
     },
     "metadata": {},
     "output_type": "display_data"
    }
   ],
   "source": [
    "display(gvi_buffer)"
   ]
  },
  {
   "cell_type": "code",
   "execution_count": 57,
   "metadata": {},
   "outputs": [
    {
     "data": {
      "text/html": [
       "<div>\n",
       "<style scoped>\n",
       "    .dataframe tbody tr th:only-of-type {\n",
       "        vertical-align: middle;\n",
       "    }\n",
       "\n",
       "    .dataframe tbody tr th {\n",
       "        vertical-align: top;\n",
       "    }\n",
       "\n",
       "    .dataframe thead th {\n",
       "        text-align: right;\n",
       "    }\n",
       "</style>\n",
       "<table border=\"1\" class=\"dataframe\">\n",
       "  <thead>\n",
       "    <tr style=\"text-align: right;\">\n",
       "      <th></th>\n",
       "      <th>index_right</th>\n",
       "      <th>level_1</th>\n",
       "      <th>geometry_left</th>\n",
       "      <th>GVI</th>\n",
       "      <th>is_panoramic</th>\n",
       "      <th>missing</th>\n",
       "    </tr>\n",
       "  </thead>\n",
       "  <tbody>\n",
       "    <tr>\n",
       "      <th>0</th>\n",
       "      <td>0</td>\n",
       "      <td>0</td>\n",
       "      <td>POINT (-2.17795 53.42943)</td>\n",
       "      <td>0.093304</td>\n",
       "      <td>False</td>\n",
       "      <td>False</td>\n",
       "    </tr>\n",
       "    <tr>\n",
       "      <th>1</th>\n",
       "      <td>0</td>\n",
       "      <td>1</td>\n",
       "      <td>POINT (-2.16738 53.43337)</td>\n",
       "      <td>0.239231</td>\n",
       "      <td>False</td>\n",
       "      <td>False</td>\n",
       "    </tr>\n",
       "    <tr>\n",
       "      <th>2</th>\n",
       "      <td>0</td>\n",
       "      <td>2</td>\n",
       "      <td>POINT (-2.16857 53.43363)</td>\n",
       "      <td>0.239231</td>\n",
       "      <td>False</td>\n",
       "      <td>False</td>\n",
       "    </tr>\n",
       "    <tr>\n",
       "      <th>3</th>\n",
       "      <td>0</td>\n",
       "      <td>3</td>\n",
       "      <td>POINT (-2.16753 53.43313)</td>\n",
       "      <td>NaN</td>\n",
       "      <td>None</td>\n",
       "      <td>True</td>\n",
       "    </tr>\n",
       "    <tr>\n",
       "      <th>4</th>\n",
       "      <td>0</td>\n",
       "      <td>4</td>\n",
       "      <td>POINT (-2.16714 53.43382)</td>\n",
       "      <td>0.239231</td>\n",
       "      <td>False</td>\n",
       "      <td>False</td>\n",
       "    </tr>\n",
       "    <tr>\n",
       "      <th>...</th>\n",
       "      <td>...</td>\n",
       "      <td>...</td>\n",
       "      <td>...</td>\n",
       "      <td>...</td>\n",
       "      <td>...</td>\n",
       "      <td>...</td>\n",
       "    </tr>\n",
       "    <tr>\n",
       "      <th>342</th>\n",
       "      <td>2</td>\n",
       "      <td>122</td>\n",
       "      <td>POINT (-2.17715 53.45728)</td>\n",
       "      <td>0.016838</td>\n",
       "      <td>False</td>\n",
       "      <td>False</td>\n",
       "    </tr>\n",
       "    <tr>\n",
       "      <th>343</th>\n",
       "      <td>2</td>\n",
       "      <td>123</td>\n",
       "      <td>POINT (-2.17672 53.45603)</td>\n",
       "      <td>0.020062</td>\n",
       "      <td>False</td>\n",
       "      <td>False</td>\n",
       "    </tr>\n",
       "    <tr>\n",
       "      <th>344</th>\n",
       "      <td>2</td>\n",
       "      <td>124</td>\n",
       "      <td>POINT (-2.17591 53.45395)</td>\n",
       "      <td>0.014713</td>\n",
       "      <td>False</td>\n",
       "      <td>False</td>\n",
       "    </tr>\n",
       "    <tr>\n",
       "      <th>345</th>\n",
       "      <td>2</td>\n",
       "      <td>125</td>\n",
       "      <td>POINT (-2.17808 53.45289)</td>\n",
       "      <td>0.000000</td>\n",
       "      <td>False</td>\n",
       "      <td>False</td>\n",
       "    </tr>\n",
       "    <tr>\n",
       "      <th>346</th>\n",
       "      <td>2</td>\n",
       "      <td>126</td>\n",
       "      <td>POINT (-2.17667 53.45297)</td>\n",
       "      <td>0.015378</td>\n",
       "      <td>False</td>\n",
       "      <td>False</td>\n",
       "    </tr>\n",
       "  </tbody>\n",
       "</table>\n",
       "<p>347 rows × 6 columns</p>\n",
       "</div>"
      ],
      "text/plain": [
       "     index_right  level_1              geometry_left       GVI is_panoramic  \\\n",
       "0              0        0  POINT (-2.17795 53.42943)  0.093304        False   \n",
       "1              0        1  POINT (-2.16738 53.43337)  0.239231        False   \n",
       "2              0        2  POINT (-2.16857 53.43363)  0.239231        False   \n",
       "3              0        3  POINT (-2.16753 53.43313)       NaN         None   \n",
       "4              0        4  POINT (-2.16714 53.43382)  0.239231        False   \n",
       "..           ...      ...                        ...       ...          ...   \n",
       "342            2      122  POINT (-2.17715 53.45728)  0.016838        False   \n",
       "343            2      123  POINT (-2.17672 53.45603)  0.020062        False   \n",
       "344            2      124  POINT (-2.17591 53.45395)  0.014713        False   \n",
       "345            2      125  POINT (-2.17808 53.45289)  0.000000        False   \n",
       "346            2      126  POINT (-2.17667 53.45297)  0.015378        False   \n",
       "\n",
       "     missing  \n",
       "0      False  \n",
       "1      False  \n",
       "2      False  \n",
       "3       True  \n",
       "4      False  \n",
       "..       ...  \n",
       "342    False  \n",
       "343    False  \n",
       "344    False  \n",
       "345    False  \n",
       "346    False  \n",
       "\n",
       "[347 rows x 6 columns]"
      ]
     },
     "metadata": {},
     "output_type": "display_data"
    }
   ],
   "source": [
    "display(points)\n",
    "\n",
    "# index_right has the UID of the point (or buffer)\n",
    "# geometry_left has the coordinates of the sample point that is within the buffer\n",
    "# GVI has the GVI value, NaN in case the image is missing\n",
    "# is_panoramic indicates if the image is panoramic, None in case it is missing\n",
    "# missing indicates if the images was usable (road centers were identified) or not"
   ]
  },
  {
   "cell_type": "code",
   "execution_count": 58,
   "metadata": {},
   "outputs": [],
   "source": [
    "file_path = os.path.join(\"results\", \"GVI-points.gpkg\")\n",
    "points.to_file(file_path, driver=\"GPKG\")\n",
    "\n",
    "file_path = os.path.join(\"results\", \"GVI-buffer.gpkg\")\n",
    "gvi_buffer.to_file(file_path, driver=\"GPKG\")"
   ]
  }
 ],
 "metadata": {
  "kernelspec": {
   "display_name": "ssml",
   "language": "python",
   "name": "python3"
  },
  "language_info": {
   "codemirror_mode": {
    "name": "ipython",
    "version": 3
   },
   "file_extension": ".py",
   "mimetype": "text/x-python",
   "name": "python",
   "nbconvert_exporter": "python",
   "pygments_lexer": "ipython3",
   "version": "3.10.9"
  },
  "orig_nbformat": 4
 },
 "nbformat": 4,
 "nbformat_minor": 2
}
