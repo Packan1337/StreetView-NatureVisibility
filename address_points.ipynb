{
 "cells": [
  {
   "cell_type": "code",
   "execution_count": 1,
   "metadata": {},
   "outputs": [],
   "source": [
    "import os\n",
    "os.environ['USE_PYGEOS'] = '0'\n",
    "\n",
    "from main_script import download_images_for_points\n",
    "from process_data import get_gvi_per_buffer\n",
    "from osmnx_road_network import select_points_on_road_network, get_features_on_points, get_road_network_with_points, select_points_within_buffers\n",
    "import geopandas as gpd\n",
    "from datetime import timedelta\n",
    "from time import time"
   ]
  },
  {
   "cell_type": "code",
   "execution_count": 2,
   "metadata": {},
   "outputs": [],
   "source": [
    "file = \"Test_multiple_home_locations.gpkg\" # File with address points\n",
    "layer = \"Test_multiple_home_locations\"\n",
    "buffer_distance = 500 # buffer distance in meters\n",
    "access_token = \"MLY|6267906093323631|fba37c53726a386c951323ee5b9874bf\" # Access token for mapillary"
   ]
  },
  {
   "cell_type": "code",
   "execution_count": 3,
   "metadata": {},
   "outputs": [],
   "source": [
    "# Read the file as a GeoDataFrame\n",
    "gdf_points = gpd.read_file(file, layer=layer) # The crs must use meters\n",
    "\n",
    "gdf_points['buffer'] = gdf_points['geometry'].buffer(buffer_distance)"
   ]
  },
  {
   "cell_type": "code",
   "execution_count": 4,
   "metadata": {},
   "outputs": [],
   "source": [
    "# Reproject the GeoDataFrame to WGS84 (EPSG:4326)\n",
    "gdf_points.to_crs(epsg=4326, inplace=True)\n",
    "\n",
    "# Reproject the 'buffer' column to EPSG 4326\n",
    "gdf_points['buffer'] = gdf_points['buffer'].to_crs(epsg=4326)"
   ]
  },
  {
   "cell_type": "code",
   "execution_count": 5,
   "metadata": {},
   "outputs": [],
   "source": [
    "road = get_road_network_with_points(gdf_points['buffer'])\n",
    "\n",
    "# Reproject the GeoDataFrame to WGS84 (EPSG:4326)\n",
    "road.to_crs(epsg=4326, inplace=True)"
   ]
  },
  {
   "cell_type": "code",
   "execution_count": 6,
   "metadata": {},
   "outputs": [],
   "source": [
    "road_points = select_points_on_road_network(road)"
   ]
  },
  {
   "cell_type": "code",
   "execution_count": 7,
   "metadata": {},
   "outputs": [],
   "source": [
    "points = select_points_within_buffers(gdf_points, road_points)"
   ]
  },
  {
   "cell_type": "code",
   "execution_count": 8,
   "metadata": {},
   "outputs": [
    {
     "name": "stderr",
     "output_type": "stream",
     "text": [
      "Downloading tiles: 100%|██████████| 7/7 [00:00<00:00, 14.63it/s]\n",
      "Downloading images (Process 3): 100%|██████████| 43/43 [25:06<00:00, 35.03s/it]  \n",
      "Downloading images (Process 4): 100%|██████████| 43/43 [25:37<00:00, 35.77s/it]\n",
      "Downloading images (Process 5): 100%|██████████| 43/43 [26:19<00:00, 36.73s/it]\n",
      "Downloading images (Process 7): 100%|██████████| 43/43 [26:28<00:00, 36.93s/it]\n",
      "Downloading images (Process 6): 100%|██████████| 43/43 [26:30<00:00, 36.98s/it]\n",
      "Downloading images (Process 1): 100%|██████████| 44/44 [26:35<00:00, 36.27s/it]\n",
      "Downloading images (Process 2): 100%|██████████| 44/44 [26:38<00:00, 36.32s/it]\n",
      "Downloading images (Process 0): 100%|██████████| 44/44 [26:38<00:00, 36.32s/it]\n"
     ]
    },
    {
     "name": "stdout",
     "output_type": "stream",
     "text": [
      "Running time: 0:26:47.204114\n"
     ]
    }
   ],
   "source": [
    "# Get features for each point\n",
    "features = get_features_on_points(points, access_token)\n",
    "\n",
    "file_path = os.path.join(\"results\", \"points.gpkg\")\n",
    "features.to_file(file_path, driver=\"GPKG\")\n",
    "\n",
    "# Get the initial time\n",
    "start_time = time()\n",
    "    \n",
    "gvi_per_point = download_images_for_points(features, access_token)\n",
    "# Get the final time\n",
    "end_time = time()\n",
    "\n",
    "# Calculate the elapsed time\n",
    "elapsed_time = end_time - start_time\n",
    "\n",
    "# Format the elapsed time as \"hh:mm:ss\"\n",
    "formatted_time = str(timedelta(seconds=elapsed_time))\n",
    "\n",
    "print(f\"Running time: {formatted_time}\")"
   ]
  },
  {
   "cell_type": "code",
   "execution_count": 29,
   "metadata": {},
   "outputs": [],
   "source": [
    "def get_gvi_per_buffer(buffered_points, gvi_per_point):\n",
    "    gvi_per_point = gvi_per_point[gvi_per_point['missing'] == False]\n",
    "    joined = gpd.sjoin(gvi_per_point, buffered_points.set_geometry('buffer'), how='inner', predicate='within')\n",
    "\n",
    "    # Group the points by buffer\n",
    "    grouped = joined.groupby('index_right')\n",
    "\n",
    "    # Calculate the average 'gvi' for each group\n",
    "    avg_gvi = grouped['GVI'].mean().reset_index()\n",
    "\n",
    "    # Merge with the buffered_points dataframe to get the buffer geometries\n",
    "    result = avg_gvi.merge(buffered_points, left_on='index_right', right_index=True)\n",
    "\n",
    "    return gpd.GeoDataFrame(result[['geometry', 'GVI']])"
   ]
  },
  {
   "cell_type": "code",
   "execution_count": 30,
   "metadata": {},
   "outputs": [
    {
     "data": {
      "text/html": [
       "<div>\n",
       "<style scoped>\n",
       "    .dataframe tbody tr th:only-of-type {\n",
       "        vertical-align: middle;\n",
       "    }\n",
       "\n",
       "    .dataframe tbody tr th {\n",
       "        vertical-align: top;\n",
       "    }\n",
       "\n",
       "    .dataframe thead th {\n",
       "        text-align: right;\n",
       "    }\n",
       "</style>\n",
       "<table border=\"1\" class=\"dataframe\">\n",
       "  <thead>\n",
       "    <tr style=\"text-align: right;\">\n",
       "      <th></th>\n",
       "      <th>geometry</th>\n",
       "      <th>GVI</th>\n",
       "    </tr>\n",
       "  </thead>\n",
       "  <tbody>\n",
       "    <tr>\n",
       "      <th>0</th>\n",
       "      <td>POINT (-2.17238 53.43243)</td>\n",
       "      <td>0.154665</td>\n",
       "    </tr>\n",
       "    <tr>\n",
       "      <th>1</th>\n",
       "      <td>POINT (-2.21250 53.44085)</td>\n",
       "      <td>0.274186</td>\n",
       "    </tr>\n",
       "    <tr>\n",
       "      <th>2</th>\n",
       "      <td>POINT (-2.17267 53.45455)</td>\n",
       "      <td>0.127187</td>\n",
       "    </tr>\n",
       "  </tbody>\n",
       "</table>\n",
       "</div>"
      ],
      "text/plain": [
       "                    geometry       GVI\n",
       "0  POINT (-2.17238 53.43243)  0.154665\n",
       "1  POINT (-2.21250 53.44085)  0.274186\n",
       "2  POINT (-2.17267 53.45455)  0.127187"
      ]
     },
     "execution_count": 30,
     "metadata": {},
     "output_type": "execute_result"
    }
   ],
   "source": [
    "results = get_gvi_per_buffer(gdf_points, gvi_per_point)\n",
    "results"
   ]
  },
  {
   "cell_type": "code",
   "execution_count": 31,
   "metadata": {},
   "outputs": [],
   "source": [
    "file_path = os.path.join(\"results\", \"GVI-points.gpkg\")\n",
    "gvi_per_point.to_file(file_path, driver=\"GPKG\")\n",
    "\n",
    "file_path = os.path.join(\"results\", \"GVI.gpkg\")\n",
    "results.to_file(file_path, driver=\"GPKG\")"
   ]
  }
 ],
 "metadata": {
  "kernelspec": {
   "display_name": "ssml",
   "language": "python",
   "name": "python3"
  },
  "language_info": {
   "codemirror_mode": {
    "name": "ipython",
    "version": 3
   },
   "file_extension": ".py",
   "mimetype": "text/x-python",
   "name": "python",
   "nbconvert_exporter": "python",
   "pygments_lexer": "ipython3",
   "version": "3.10.9"
  },
  "orig_nbformat": 4
 },
 "nbformat": 4,
 "nbformat_minor": 2
}
