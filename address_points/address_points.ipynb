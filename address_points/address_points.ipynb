{
 "cells": [
  {
   "cell_type": "code",
   "execution_count": 1,
   "metadata": {},
   "outputs": [],
   "source": [
    "import os\n",
    "os.environ['USE_PYGEOS'] = '0'\n",
    "\n",
    "from functions import prepare_folders, download_images_for_points, get_gvi_per_buffer, select_points_on_road_network, get_features_on_points, get_road_network_with_points, select_points_within_buffers\n",
    "import geopandas as gpd\n",
    "from datetime import timedelta\n",
    "from time import time"
   ]
  },
  {
   "cell_type": "code",
   "execution_count": 2,
   "metadata": {},
   "outputs": [],
   "source": [
    "file = \"Test_multiple_home_locations.gpkg\" # File with address points\n",
    "layer = \"Test_multiple_home_locations\"\n",
    "buffer_distance = 500 # buffer distance in meters\n",
    "access_token = \"MLY|6267906093323631|fba37c53726a386c951323ee5b9874bf\" # Access token for mapillary"
   ]
  },
  {
   "cell_type": "code",
   "execution_count": 3,
   "metadata": {},
   "outputs": [],
   "source": [
    "prepare_folders()"
   ]
  },
  {
   "cell_type": "code",
   "execution_count": 4,
   "metadata": {},
   "outputs": [],
   "source": [
    "# Read the file as a GeoDataFrame\n",
    "gdf_points = gpd.read_file(file, layer=layer) # The crs must use meters\n",
    "gdf_points['buffer'] = gdf_points['geometry'].buffer(buffer_distance)"
   ]
  },
  {
   "cell_type": "code",
   "execution_count": 5,
   "metadata": {},
   "outputs": [],
   "source": [
    "# Reproject the GeoDataFrame to WGS84 (EPSG:4326)\n",
    "gdf_points.to_crs(epsg=4326, inplace=True)\n",
    "\n",
    "# Reproject the 'buffer' column to EPSG 4326\n",
    "gdf_points['buffer'] = gdf_points['buffer'].to_crs(epsg=4326)"
   ]
  },
  {
   "cell_type": "code",
   "execution_count": 6,
   "metadata": {},
   "outputs": [],
   "source": [
    "road = get_road_network_with_points(gdf_points['buffer'])\n",
    "\n",
    "# Reproject the GeoDataFrame to WGS84 (EPSG:4326)\n",
    "road.to_crs(epsg=4326, inplace=True)"
   ]
  },
  {
   "cell_type": "code",
   "execution_count": 7,
   "metadata": {},
   "outputs": [],
   "source": [
    "road_points = select_points_on_road_network(road)"
   ]
  },
  {
   "cell_type": "code",
   "execution_count": 8,
   "metadata": {},
   "outputs": [],
   "source": [
    "points = select_points_within_buffers(gdf_points, road_points)"
   ]
  },
  {
   "cell_type": "code",
   "execution_count": 9,
   "metadata": {},
   "outputs": [
    {
     "name": "stderr",
     "output_type": "stream",
     "text": [
      "Downloading tiles: 100%|██████████| 3/3 [00:00<00:00,  9.95it/s]\n",
      "Processing images (Process 7): 100%|██████████| 10/10 [05:11<00:00, 31.15s/it]\n",
      "Processing images (Process 3): 100%|██████████| 11/11 [05:14<00:00, 28.58s/it]\n",
      "Processing images (Process 2): 100%|██████████| 11/11 [05:15<00:00, 28.64s/it]\n",
      "Processing images (Process 0): 100%|██████████| 11/11 [05:15<00:00, 28.65s/it]\n",
      "Processing images (Process 5): 100%|██████████| 10/10 [05:31<00:00, 33.13s/it]\n",
      "Processing images (Process 6): 100%|██████████| 10/10 [05:31<00:00, 33.14s/it]\n",
      "Processing images (Process 4): 100%|██████████| 11/11 [05:31<00:00, 30.14s/it]\n",
      "Processing images (Process 1): 100%|██████████| 11/11 [05:33<00:00, 30.29s/it]\n"
     ]
    },
    {
     "name": "stdout",
     "output_type": "stream",
     "text": [
      "Running time: 0:05:42.708556\n"
     ]
    }
   ],
   "source": [
    "# Get features for each point\n",
    "features = get_features_on_points(points, access_token)\n",
    "\n",
    "file_path = os.path.join(\"results\", \"points.gpkg\")\n",
    "features.to_file(file_path, driver=\"GPKG\")\n",
    "\n",
    "# Get the initial time\n",
    "start_time = time()\n",
    "\n",
    "# The number of workers must be adapted depending on the computer\n",
    "gvi_per_point = download_images_for_points(features, access_token, 3)\n",
    "# Get the final time\n",
    "end_time = time()\n",
    "\n",
    "# Calculate the elapsed time\n",
    "elapsed_time = end_time - start_time\n",
    "\n",
    "# Format the elapsed time as \"hh:mm:ss\"\n",
    "formatted_time = str(timedelta(seconds=elapsed_time))\n",
    "\n",
    "print(f\"Running time: {formatted_time}\")"
   ]
  },
  {
   "cell_type": "code",
   "execution_count": 10,
   "metadata": {},
   "outputs": [],
   "source": [
    "gvi_buffer, points = get_gvi_per_buffer(gdf_points, gvi_per_point)"
   ]
  },
  {
   "cell_type": "code",
   "execution_count": 11,
   "metadata": {},
   "outputs": [
    {
     "data": {
      "text/html": [
       "<div>\n",
       "<style scoped>\n",
       "    .dataframe tbody tr th:only-of-type {\n",
       "        vertical-align: middle;\n",
       "    }\n",
       "\n",
       "    .dataframe tbody tr th {\n",
       "        vertical-align: top;\n",
       "    }\n",
       "\n",
       "    .dataframe thead th {\n",
       "        text-align: right;\n",
       "    }\n",
       "</style>\n",
       "<table border=\"1\" class=\"dataframe\">\n",
       "  <thead>\n",
       "    <tr style=\"text-align: right;\">\n",
       "      <th></th>\n",
       "      <th>geometry</th>\n",
       "      <th>GVI</th>\n",
       "      <th>Point_Count</th>\n",
       "    </tr>\n",
       "  </thead>\n",
       "  <tbody>\n",
       "    <tr>\n",
       "      <th>0</th>\n",
       "      <td>POINT (-2.17238 53.43243)</td>\n",
       "      <td>0.167305</td>\n",
       "      <td>24</td>\n",
       "    </tr>\n",
       "  </tbody>\n",
       "</table>\n",
       "</div>"
      ],
      "text/plain": [
       "                    geometry       GVI  Point_Count\n",
       "0  POINT (-2.17238 53.43243)  0.167305           24"
      ]
     },
     "metadata": {},
     "output_type": "display_data"
    }
   ],
   "source": [
    "display(gvi_buffer)"
   ]
  },
  {
   "cell_type": "code",
   "execution_count": 12,
   "metadata": {},
   "outputs": [
    {
     "data": {
      "text/html": [
       "<div>\n",
       "<style scoped>\n",
       "    .dataframe tbody tr th:only-of-type {\n",
       "        vertical-align: middle;\n",
       "    }\n",
       "\n",
       "    .dataframe tbody tr th {\n",
       "        vertical-align: top;\n",
       "    }\n",
       "\n",
       "    .dataframe thead th {\n",
       "        text-align: right;\n",
       "    }\n",
       "</style>\n",
       "<table border=\"1\" class=\"dataframe\">\n",
       "  <thead>\n",
       "    <tr style=\"text-align: right;\">\n",
       "      <th></th>\n",
       "      <th>index_right</th>\n",
       "      <th>level_1</th>\n",
       "      <th>geometry_left</th>\n",
       "      <th>GVI</th>\n",
       "      <th>is_panoramic</th>\n",
       "      <th>missing</th>\n",
       "    </tr>\n",
       "  </thead>\n",
       "  <tbody>\n",
       "    <tr>\n",
       "      <th>0</th>\n",
       "      <td>0</td>\n",
       "      <td>0</td>\n",
       "      <td>POINT (-2.16857 53.43363)</td>\n",
       "      <td>0.239231</td>\n",
       "      <td>False</td>\n",
       "      <td>False</td>\n",
       "    </tr>\n",
       "    <tr>\n",
       "      <th>1</th>\n",
       "      <td>0</td>\n",
       "      <td>1</td>\n",
       "      <td>POINT (-2.16738 53.43337)</td>\n",
       "      <td>0.239231</td>\n",
       "      <td>False</td>\n",
       "      <td>False</td>\n",
       "    </tr>\n",
       "    <tr>\n",
       "      <th>2</th>\n",
       "      <td>0</td>\n",
       "      <td>2</td>\n",
       "      <td>POINT (-2.17795 53.42943)</td>\n",
       "      <td>0.093304</td>\n",
       "      <td>False</td>\n",
       "      <td>False</td>\n",
       "    </tr>\n",
       "    <tr>\n",
       "      <th>3</th>\n",
       "      <td>0</td>\n",
       "      <td>3</td>\n",
       "      <td>POINT (-2.16753 53.43313)</td>\n",
       "      <td>NaN</td>\n",
       "      <td>None</td>\n",
       "      <td>True</td>\n",
       "    </tr>\n",
       "    <tr>\n",
       "      <th>4</th>\n",
       "      <td>0</td>\n",
       "      <td>4</td>\n",
       "      <td>POINT (-2.16714 53.43382)</td>\n",
       "      <td>0.239231</td>\n",
       "      <td>False</td>\n",
       "      <td>False</td>\n",
       "    </tr>\n",
       "    <tr>\n",
       "      <th>...</th>\n",
       "      <td>...</td>\n",
       "      <td>...</td>\n",
       "      <td>...</td>\n",
       "      <td>...</td>\n",
       "      <td>...</td>\n",
       "      <td>...</td>\n",
       "    </tr>\n",
       "    <tr>\n",
       "      <th>80</th>\n",
       "      <td>0</td>\n",
       "      <td>80</td>\n",
       "      <td>POINT (-2.16551 53.43113)</td>\n",
       "      <td>NaN</td>\n",
       "      <td>None</td>\n",
       "      <td>True</td>\n",
       "    </tr>\n",
       "    <tr>\n",
       "      <th>81</th>\n",
       "      <td>0</td>\n",
       "      <td>81</td>\n",
       "      <td>POINT (-2.17777 53.43070)</td>\n",
       "      <td>NaN</td>\n",
       "      <td>None</td>\n",
       "      <td>True</td>\n",
       "    </tr>\n",
       "    <tr>\n",
       "      <th>82</th>\n",
       "      <td>0</td>\n",
       "      <td>82</td>\n",
       "      <td>POINT (-2.17111 53.43585)</td>\n",
       "      <td>0.239231</td>\n",
       "      <td>False</td>\n",
       "      <td>False</td>\n",
       "    </tr>\n",
       "    <tr>\n",
       "      <th>83</th>\n",
       "      <td>0</td>\n",
       "      <td>83</td>\n",
       "      <td>POINT (-2.16742 53.43158)</td>\n",
       "      <td>NaN</td>\n",
       "      <td>None</td>\n",
       "      <td>True</td>\n",
       "    </tr>\n",
       "    <tr>\n",
       "      <th>84</th>\n",
       "      <td>0</td>\n",
       "      <td>84</td>\n",
       "      <td>POINT (-2.17855 53.43045)</td>\n",
       "      <td>NaN</td>\n",
       "      <td>None</td>\n",
       "      <td>True</td>\n",
       "    </tr>\n",
       "  </tbody>\n",
       "</table>\n",
       "<p>85 rows × 6 columns</p>\n",
       "</div>"
      ],
      "text/plain": [
       "    index_right  level_1              geometry_left       GVI is_panoramic  \\\n",
       "0             0        0  POINT (-2.16857 53.43363)  0.239231        False   \n",
       "1             0        1  POINT (-2.16738 53.43337)  0.239231        False   \n",
       "2             0        2  POINT (-2.17795 53.42943)  0.093304        False   \n",
       "3             0        3  POINT (-2.16753 53.43313)       NaN         None   \n",
       "4             0        4  POINT (-2.16714 53.43382)  0.239231        False   \n",
       "..          ...      ...                        ...       ...          ...   \n",
       "80            0       80  POINT (-2.16551 53.43113)       NaN         None   \n",
       "81            0       81  POINT (-2.17777 53.43070)       NaN         None   \n",
       "82            0       82  POINT (-2.17111 53.43585)  0.239231        False   \n",
       "83            0       83  POINT (-2.16742 53.43158)       NaN         None   \n",
       "84            0       84  POINT (-2.17855 53.43045)       NaN         None   \n",
       "\n",
       "    missing  \n",
       "0     False  \n",
       "1     False  \n",
       "2     False  \n",
       "3      True  \n",
       "4     False  \n",
       "..      ...  \n",
       "80     True  \n",
       "81     True  \n",
       "82    False  \n",
       "83     True  \n",
       "84     True  \n",
       "\n",
       "[85 rows x 6 columns]"
      ]
     },
     "metadata": {},
     "output_type": "display_data"
    }
   ],
   "source": [
    "display(points)\n",
    "\n",
    "# index has the UID of the point (or buffer)\n",
    "# geometry_left has the coordinates of the sample point that is within the buffer\n",
    "# GVI has the GVI value, NaN in case the image is missing\n",
    "# is_panoramic indicates if the image is panoramic, None in case it is missing\n",
    "# missing indicates if the images was usable (road centers were identified) or not"
   ]
  },
  {
   "cell_type": "code",
   "execution_count": 13,
   "metadata": {},
   "outputs": [],
   "source": [
    "file_path = os.path.join(\"results\", \"GVI-points.gpkg\")\n",
    "points.to_file(file_path, driver=\"GPKG\")\n",
    "\n",
    "file_path = os.path.join(\"results\", \"GVI-buffer.gpkg\")\n",
    "gvi_buffer.to_file(file_path, driver=\"GPKG\")"
   ]
  }
 ],
 "metadata": {
  "kernelspec": {
   "display_name": "ssml",
   "language": "python",
   "name": "python3"
  },
  "language_info": {
   "codemirror_mode": {
    "name": "ipython",
    "version": 3
   },
   "file_extension": ".py",
   "mimetype": "text/x-python",
   "name": "python",
   "nbconvert_exporter": "python",
   "pygments_lexer": "ipython3",
   "version": "3.10.9"
  },
  "orig_nbformat": 4
 },
 "nbformat": 4,
 "nbformat_minor": 2
}
